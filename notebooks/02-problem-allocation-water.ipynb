{
 "cells": [
  {
   "cell_type": "markdown",
   "metadata": {},
   "source": [
    "# Formulation 1 of the water allocation problem\n",
    "\n",
    "Given:\n",
    "\n",
    "1. A set of users or sectors, denoted as U, where each user i belongs to U.\n",
    "2. Available water supply, which can vary during drought conditions, represented as a variable W_drought.\n",
    "3. A set of priorities or fairness criteria for each user, represented as P_i for user i.\n",
    "4. Water allocation limits for each user during drought conditions, denoted as L_i for user i.\n",
    "\n",
    "Objective:\n",
    "\n",
    "Minimize the overall impact of drought on different sectors while adhering to the priorities or fairness criteria for each user.\n",
    "\n",
    "\n",
    "Constraints:\n",
    "\n",
    "1. Water Allocation Limits:\n",
    "For each user i in U, ensure that the allocated water during drought conditions A_i does not exceed their specified limit L_i\n",
    "\n",
    "2. Priority or Fairness Constraints:\n",
    "\n",
    "Define a priority or fairness function for each user i. This function could be based on user preferences, sector importance, or other criteria. The goal is to minimize the deviation from these priorities:\n",
    "F = sum_i(P_i . (A_i - L_i)^2)\n",
    "\n",
    "3. Total water supply Constraint:\n",
    "Ensure that the sum of all water allocations does not exceed the available water supply during drought conditions:\n"
   ]
  }
 ],
 "metadata": {
  "language_info": {
   "name": "python"
  },
  "orig_nbformat": 4
 },
 "nbformat": 4,
 "nbformat_minor": 2
}
